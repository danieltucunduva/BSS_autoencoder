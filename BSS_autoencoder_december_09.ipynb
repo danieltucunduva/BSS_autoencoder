{
 "cells": [
  {
   "cell_type": "markdown",
   "metadata": {},
   "source": [
    "# Blind source separation with an unsupervised autoencoder\n",
    "\n",
    "# Daniel Correa Tucunduva \n"
   ]
  },
  {
   "cell_type": "markdown",
   "metadata": {},
   "source": [
    "## Setup"
   ]
  },
  {
   "cell_type": "code",
   "execution_count": 1,
   "metadata": {
    "pycharm": {
     "is_executing": false,
     "name": "#%%\n"
    }
   },
   "outputs": [
    {
     "name": "stderr",
     "output_type": "stream",
     "text": [
      "Using TensorFlow backend.\n"
     ]
    },
    {
     "name": "stdout",
     "output_type": "stream",
     "text": [
      "Automatically created module for IPython interactive environment\n"
     ]
    }
   ],
   "source": [
    "# Module setup\n",
    "\n",
    "import numpy as np\n",
    "from scipy.ndimage import gaussian_filter\n",
    "import keras\n",
    "from keras.models import Sequential\n",
    "from keras.layers import Dense\n",
    "from keras.callbacks import LearningRateScheduler\n",
    "from sklearn.decomposition import FastICA\n",
    "from sklearn.preprocessing import MinMaxScaler\n",
    "import matplotlib.pyplot as plt\n",
    "\n",
    "print(__doc__)"
   ]
  },
  {
   "cell_type": "markdown",
   "metadata": {},
   "source": [
    "## Synthetic data generation"
   ]
  },
  {
   "cell_type": "code",
   "execution_count": 2,
   "metadata": {
    "pycharm": {
     "is_executing": false,
     "name": "#%%\n"
    }
   },
   "outputs": [
    {
     "data": {
      "image/png": "[encoded data removed]",
      "text/plain": [
       "<Figure size 1080x1080 with 3 Axes>"
      ]
     },
     "metadata": {
      "needs_background": "light"
     },
     "output_type": "display_data"
    }
   ],
   "source": [
    "grid = np.zeros([10, 10])\n",
    "\n",
    "src_loc_1 = [3, 3]\n",
    "src_loc_2 = [5, 7]\n",
    "src_loc_3 = [8, 2]\n",
    "\n",
    "src_1 = np.sin(np.arange(0, 1000, 0.01))  # sin\n",
    "\n",
    "src_2 = np.zeros(src_1.shape[0])  # box\n",
    "for i in np.arange(0, src_2.shape[0], 500):\n",
    "    src_2[i:i + 250] = 1\n",
    "\n",
    "src_3 = np.zeros(src_1.shape[0])  # sawtooth\n",
    "for i in np.arange(0, src_3.shape[0], 200):\n",
    "    src_3[i:i + 200] = np.arange(0, 200) / 200\n",
    "\n",
    "src_1 = np.reshape(src_1, [100000, 1])\n",
    "src_2 = np.reshape(src_2, [100000, 1])\n",
    "src_3 = np.reshape(src_3, [100000, 1])\n",
    "\n",
    "scaler = MinMaxScaler(feature_range=(0, 1))\n",
    "src_1 = scaler.fit_transform(src_1)\n",
    "src_2 = scaler.fit_transform(src_2)\n",
    "src_3 = scaler.fit_transform(src_3)\n",
    "\n",
    "track_1 = np.reshape(src_1, [100000, 1])\n",
    "track_2 = np.reshape(src_2, [100000, 1])\n",
    "track_3 = np.reshape(src_3, [100000, 1])\n",
    "\n",
    "plt.figure(figsize=(15, 15))\n",
    "\n",
    "models = [track_1[0:1000], track_2[0:1000], track_3[0:1000]]\n",
    "names = ['Sine', 'Square', 'Sawtooth']\n",
    "colors = ['red', 'steelblue', 'orange']\n",
    "\n",
    "for index, (model, name) in enumerate(zip(models, names), 1):\n",
    "    plt.subplot(12, 1, index * 2)\n",
    "    plt.title(name)\n",
    "    for sig, color in zip(model.T, [colors[index - 1]]):\n",
    "        plt.plot(sig, color=color)\n",
    "\n",
    "plt.show()"
   ]
  },
  {
   "cell_type": "code",
   "execution_count": 3,
   "metadata": {
    "pycharm": {
     "is_executing": false,
     "name": "#%%\n"
    }
   },
   "outputs": [
    {
     "name": "stdout",
     "output_type": "stream",
     "text": [
      "smoothing...\n",
      "smoothing...\n",
      "smoothing...\n"
     ]
    }
   ],
   "source": [
    "def smooth_src(input_signal, sigma):\n",
    "    print('smoothing...')\n",
    "    for i in np.arange(0, input_signal.shape[2]):\n",
    "        input_signal[:, :, i] = gaussian_filter(input_signal[:, :, i], sigma)\n",
    "\n",
    "    return input_signal\n",
    "\n",
    "src_grid_1 = np.zeros([10, 10, src_1.shape[0]])  # init 3d grid\n",
    "src_grid_1[src_loc_1[0], src_loc_1[1], :] = src_1[:,0]  # place point source in grid\n",
    "src_grid_1 = smooth_src(src_grid_1, 3)  # smooth\n",
    "\n",
    "src_grid_2 = np.zeros([10, 10, src_2.shape[0]])\n",
    "src_grid_2[src_loc_2[0], src_loc_2[1], :] = src_2[:,0]\n",
    "src_grid_2 = smooth_src(src_grid_2, 3)\n",
    "\n",
    "src_grid_3 = np.zeros([10, 10, src_3.shape[0]])\n",
    "src_grid_3[src_loc_3[0], src_loc_3[1], :] = src_3[:,0]\n",
    "src_grid_3 = smooth_src(src_grid_3, 3)\n",
    "\n",
    "mixed = src_grid_1 + src_grid_2 + src_grid_3  # goal is to unmix mixed\n",
    "\"\"\"\n",
    "the matrix 'mixed' is the sum of all 3 sources, where each source is a 2d gaussian\n",
    "smoothed time series (sin, boxcar, sawtooth). the goal is to recover the original\n",
    "time series, as well as the spatial topography of the original sources  \n",
    "\"\"\"\n",
    "\n",
    "reshape_mixed = np.reshape(mixed, [100, mixed.shape[2]])"
   ]
  },
  {
   "cell_type": "markdown",
   "metadata": {},
   "source": [
    "## ICA"
   ]
  },
  {
   "cell_type": "code",
   "execution_count": 4,
   "metadata": {
    "pycharm": {
     "name": "#%%\n"
    }
   },
   "outputs": [],
   "source": [
    "ica = FastICA(n_components=3)  # we'll be generous and assume there's 3\n",
    "ica.fit(reshape_mixed.T)  # .T because 100000 instances, 100 attributes\n",
    "ica_comps = ica.transform(reshape_mixed.T)  # get the components\n",
    "ica_weights = np.reshape(ica.components_.T, [10, 10, 3])  # visualize these as images"
   ]
  },
  {
   "cell_type": "markdown",
   "metadata": {},
   "source": [
    "## Autoencoder training"
   ]
  },
  {
   "cell_type": "code",
   "execution_count": 132,
   "metadata": {
    "pycharm": {
     "is_executing": false,
     "name": "#%%\n"
    },
    "scrolled": true
   },
   "outputs": [
    {
     "name": "stdout",
     "output_type": "stream",
     "text": [
      "Model: \"autoencoder\"\n",
      "_________________________________________________________________\n",
      "Layer (type)                 Output Shape              Param #   \n",
      "=================================================================\n",
      "dense_125 (Dense)            (None, 3)                 300       \n",
      "_________________________________________________________________\n",
      "dense_126 (Dense)            (None, 100)               300       \n",
      "=================================================================\n",
      "Total params: 600\n",
      "Trainable params: 600\n",
      "Non-trainable params: 0\n",
      "_________________________________________________________________\n"
     ]
    }
   ],
   "source": [
    "autoencoder = Sequential()\n",
    "autoencoder.name = 'autoencoder'\n",
    "autoencoder.add(Dense(3, activation='linear', input_shape=[100], kernel_initializer='uniform', use_bias=False, kernel_constraint='nonneg'))\n",
    "autoencoder.add(Dense(100, activation='linear', kernel_initializer='uniform', use_bias=False, kernel_constraint='nonneg'))\n",
    "\n",
    "autoencoder.summary()\n",
    "\n",
    "optimizer = keras.optimizers.SGD(learning_rate=1e-1, momentum=0.0, nesterov=False)\n",
    "\n",
    "autoencoder.compile(loss='logcosh', optimizer=optimizer)\n",
    "\n",
    "autoencoder_input = reshape_mixed.T"
   ]
  },
  {
   "cell_type": "code",
   "execution_count": null,
   "metadata": {
    "pycharm": {
     "is_executing": false,
     "name": "#%%\n"
    },
    "scrolled": false
   },
   "outputs": [
    {
     "name": "stdout",
     "output_type": "stream",
     "text": [
      "Epoch 1/100\n",
      "100000/100000 [==============================] - ETA: 0s - loss: 655.652 - 3s 28us/step - loss: 651.6960\n",
      "Epoch 2/100\n",
      "100000/100000 [==============================] - 3s 26us/step - loss: 134.8285\n",
      "Epoch 3/100\n",
      "100000/100000 [==============================] - 3s 28us/step - loss: 81.6843\n",
      "Epoch 4/100\n",
      "100000/100000 [==============================] - 3s 28us/step - loss: 51.8857\n",
      "Epoch 5/100\n",
      "100000/100000 [==============================] - 3s 28us/step - loss: 29.1917\n",
      "Epoch 6/100\n",
      "100000/100000 [==============================] - 3s 28us/step - loss: 17.7707\n",
      "Epoch 7/100\n",
      "100000/100000 [==============================] - 3s 28us/step - loss: 8.0761\n",
      "Epoch 8/100\n",
      "100000/100000 [==============================] - 3s 27us/step - loss: 161288777059.8114\n",
      "Epoch 9/100\n",
      "100000/100000 [==============================] - 3s 27us/step - loss: 312252.3174\n",
      "Epoch 10/100\n",
      "100000/100000 [==============================] - 3s 27us/step - loss: 312307.8059\n",
      "Epoch 11/100\n",
      "100000/100000 [==============================] - 3s 27us/step - loss: 312327.4715\n",
      "Epoch 12/100\n",
      "100000/100000 [==============================] - 3s 27us/step - loss: 312029.8719\n",
      "Epoch 13/100\n",
      "100000/100000 [==============================] - 3s 27us/step - loss: 311846.5343\n",
      "Epoch 14/100\n",
      "100000/100000 [==============================] - 3s 27us/step - loss: 312361.2047\n",
      "Epoch 15/100\n",
      " 89360/100000 [=========================>....] - ETA: 0s - loss: 312631.9334"
     ]
    }
   ],
   "source": [
    "class SymmetricWeights(keras.callbacks.Callback):\n",
    "    def on_epoch_end(self, batch, logs={}):\n",
    "        autoencoder.last_loss = logs.get('loss')\n",
    "\n",
    "    def on_train_batch_end(self, batch, logs={}):\n",
    "        autoencoder.last_loss = logs.get('loss')\n",
    "        if autoencoder.last_loss > 0.01:\n",
    "            return\n",
    "        weights = autoencoder.get_weights()\n",
    "        unmixing = weights[0]\n",
    "        mixing = weights[1].T\n",
    "        \n",
    "        unmixing_inverse = np.zeros(unmixing.shape)\n",
    "        for ii in range(100):\n",
    "            for jj in range(3):\n",
    "                if unmixing[ii][jj] != 0:\n",
    "                    inverse = unmixing[ii][jj] ** -1.0\n",
    "                    unmixing_inverse[ii][jj] = inverse\n",
    "        \n",
    "        average = (unmixing_inverse + mixing) / 2.0\n",
    "        \n",
    "        lr = 0.5\n",
    "        cr = 1.0 - lr\n",
    "        \n",
    "        new_mixing = cr * mixing + lr * average\n",
    "        \n",
    "        new_unmixing = np.zeros(unmixing.shape)\n",
    "        for ii in range(100):\n",
    "            for jj in range(3):\n",
    "                if average[ii][jj] != 0:\n",
    "                    inverse = average[ii][jj] ** -1.0\n",
    "                    new_unmixing[ii][jj] = cr * unmixing[ii][jj] + lr * inverse\n",
    "        \n",
    "        \n",
    "        \n",
    "        symmetric = [new_unmixing, new_mixing.T]\n",
    "        autoencoder.set_weights(symmetric)\n",
    "        \n",
    "def learning_rate_schedule(epoch):\n",
    "    e = epoch + 1\n",
    "    if e > 80:\n",
    "        return 1e-5\n",
    "    if e > 60:\n",
    "        return 1e-4\n",
    "    if e > 40:\n",
    "        return 1e-3\n",
    "    if e > 20:\n",
    "        return 1e-2\n",
    "    return 1e-1\n",
    "\n",
    "    \n",
    "autoencoder.last_loss = False\n",
    "symmetric_weights_callback = SymmetricWeights()\n",
    "autoencoder_history = autoencoder.fit(autoencoder_input,\n",
    "                                      autoencoder_input,\n",
    "                                      batch_size=40,\n",
    "                                      epochs=100,\n",
    "                                      verbose=1,\n",
    "                                      callbacks=[\n",
    "                                      symmetric_weights_callback,\n",
    "                                      LearningRateScheduler(learning_rate_schedule)\n",
    "                                      ])"
   ]
  },
  {
   "cell_type": "code",
   "execution_count": null,
   "metadata": {
    "pycharm": {
     "is_executing": false,
     "name": "#%%\n"
    }
   },
   "outputs": [],
   "source": [
    "reconstruction = autoencoder.predict(autoencoder_input)"
   ]
  },
  {
   "cell_type": "markdown",
   "metadata": {},
   "source": [
    "## Original and reconstruction comparison"
   ]
  },
  {
   "cell_type": "code",
   "execution_count": null,
   "metadata": {
    "pycharm": {
     "is_executing": false,
     "name": "#%%\n"
    }
   },
   "outputs": [],
   "source": [
    "i = 1\n",
    "for ii in [0, 50, 210, 400, 740]:\n",
    "    ax = plt.subplot(2, 5, i)\n",
    "    if i == 1:\n",
    "        plt.title('Original grid')\n",
    "    plt.imshow(np.reshape(autoencoder_input[ii], [10, 10]))\n",
    "    plt.gray()\n",
    "    ax.get_xaxis().set_visible(False)\n",
    "    ax.get_yaxis().set_visible(False)\n",
    "    ax = plt.subplot(2, 5, i + 5)\n",
    "    if i == 1:\n",
    "        plt.title('Reconstruction')\n",
    "    plt.imshow(np.reshape(reconstruction[ii], [10, 10]))\n",
    "    plt.gray()\n",
    "    ax.get_xaxis().set_visible(False)\n",
    "    ax.get_yaxis().set_visible(False)\n",
    "    i += 1"
   ]
  },
  {
   "cell_type": "markdown",
   "metadata": {
    "pycharm": {
     "is_executing": false,
     "name": "#%% md\n"
    }
   },
   "source": [
    "## Recover independent sources from hidden layer"
   ]
  },
  {
   "cell_type": "code",
   "execution_count": null,
   "metadata": {
    "pycharm": {
     "is_executing": false,
     "name": "#%%\n"
    }
   },
   "outputs": [],
   "source": [
    "hidden_layer = Sequential()\n",
    "hidden_layer.name = 'hidden_layer'\n",
    "hidden_layer.add(Dense(3, input_shape=[100], use_bias=False, kernel_constraint='nonneg'))\n",
    "hidden_layer.summary()\n",
    "\n",
    "hidden_layer.set_weights(autoencoder.get_weights())\n",
    "\n",
    "recovered_sources = hidden_layer.predict(reshape_mixed.T)\n",
    "\n",
    "source_1 = np.reshape(recovered_sources.T[0], [100000, 1])\n",
    "source_2 = np.reshape(recovered_sources.T[1], [100000, 1])\n",
    "source_3 = np.reshape(recovered_sources.T[2], [100000, 1])\n",
    "\n",
    "recovered_sources = np.concatenate([source_1, source_2, source_3], axis=1)"
   ]
  },
  {
   "cell_type": "markdown",
   "metadata": {},
   "source": [
    "## ICA and autoencoder results comparison"
   ]
  },
  {
   "cell_type": "code",
   "execution_count": null,
   "metadata": {
    "pycharm": {
     "is_executing": false,
     "name": "#%%\n"
    },
    "scrolled": false
   },
   "outputs": [],
   "source": [
    "plt.figure(figsize=(15, 15))\n",
    "\n",
    "models = [\n",
    "    track_1[0:1000],\n",
    "    track_2[0:1000],\n",
    "    track_3[0:1000],\n",
    "    ica_comps[0:1000],\n",
    "    recovered_sources[0:1000]\n",
    "]\n",
    "names = ['source_1', 'source_2', 'source_3', 'ICA',  'Autoencoder']\n",
    "colors = ['red', 'steelblue', 'orange']\n",
    "\n",
    "for index, (model, name) in enumerate(zip(models, names), 1):\n",
    "    plt.subplot(12, 1, index * 2)\n",
    "    plt.title(name)\n",
    "    for sig, color in zip(model.T, colors):\n",
    "        plt.plot(sig, color=color)\n",
    "\n",
    "plt.show()"
   ]
  },
  {
   "cell_type": "code",
   "execution_count": null,
   "metadata": {
    "pycharm": {
     "is_executing": false
    }
   },
   "outputs": [],
   "source": []
  }
 ],
 "metadata": {
  "kernelspec": {
   "display_name": "Python 3",
   "language": "python",
   "name": "python3"
  },
  "language_info": {
   "codemirror_mode": {
    "name": "ipython",
    "version": 3
   },
   "file_extension": ".py",
   "mimetype": "text/x-python",
   "name": "python",
   "nbconvert_exporter": "python",
   "pygments_lexer": "ipython3",
   "version": "3.7.3"
  },
  "pycharm": {
   "stem_cell": {
    "cell_type": "raw",
    "metadata": {
     "collapsed": false
    },
    "source": []
   }
  }
 },
 "nbformat": 4,
 "nbformat_minor": 1
}
