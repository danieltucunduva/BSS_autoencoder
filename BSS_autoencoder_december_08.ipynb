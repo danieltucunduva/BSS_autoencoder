{
 "cells": [
  {
   "cell_type": "markdown",
   "metadata": {},
   "source": [
    "# Blind source separation with an unsupervised autoencoder\n",
    "\n",
    "# Daniel Correa Tucunduva \n"
   ]
  },
  {
   "cell_type": "markdown",
   "metadata": {},
   "source": [
    "## Setup"
   ]
  },
  {
   "cell_type": "code",
   "execution_count": 1,
   "metadata": {
    "pycharm": {
     "is_executing": false,
     "name": "#%%\n"
    }
   },
   "outputs": [
    {
     "name": "stderr",
     "output_type": "stream",
     "text": [
      "Using TensorFlow backend.\n"
     ]
    },
    {
     "name": "stdout",
     "output_type": "stream",
     "text": [
      "Automatically created module for IPython interactive environment\n"
     ]
    }
   ],
   "source": [
    "# Module setup\n",
    "\n",
    "import numpy as np\n",
    "from scipy.ndimage import gaussian_filter\n",
    "import keras\n",
    "from keras.models import Sequential\n",
    "from keras.layers import Dense\n",
    "from keras.callbacks import LearningRateScheduler\n",
    "from sklearn.decomposition import FastICA\n",
    "from sklearn.preprocessing import MinMaxScaler\n",
    "import matplotlib.pyplot as plt\n",
    "\n",
    "print(__doc__)"
   ]
  },
  {
   "cell_type": "markdown",
   "metadata": {},
   "source": [
    "## Synthetic data generation"
   ]
  },
  {
   "cell_type": "code",
   "execution_count": 2,
   "metadata": {
    "pycharm": {
     "is_executing": false,
     "name": "#%%\n"
    }
   },
   "outputs": [
    {
     "data": {
      "image/png": "[encoded data removed]",
      "text/plain": [
       "<Figure size 1080x1080 with 3 Axes>"
      ]
     },
     "metadata": {
      "needs_background": "light"
     },
     "output_type": "display_data"
    }
   ],
   "source": [
    "grid = np.zeros([10, 10])\n",
    "\n",
    "src_loc_1 = [3, 3]\n",
    "src_loc_2 = [5, 7]\n",
    "src_loc_3 = [8, 2]\n",
    "\n",
    "src_1 = np.sin(np.arange(0, 1000, 0.01))  # sin\n",
    "\n",
    "src_2 = np.zeros(src_1.shape[0])  # box\n",
    "for i in np.arange(0, src_2.shape[0], 500):\n",
    "    src_2[i:i + 250] = 1\n",
    "\n",
    "src_3 = np.zeros(src_1.shape[0])  # sawtooth\n",
    "for i in np.arange(0, src_3.shape[0], 200):\n",
    "    src_3[i:i + 200] = np.arange(0, 200) / 200\n",
    "\n",
    "src_1 = np.reshape(src_1, [100000, 1])\n",
    "src_2 = np.reshape(src_2, [100000, 1])\n",
    "src_3 = np.reshape(src_3, [100000, 1])\n",
    "\n",
    "scaler = MinMaxScaler(feature_range=(0, 1))\n",
    "src_1 = scaler.fit_transform(src_1)\n",
    "src_2 = scaler.fit_transform(src_2)\n",
    "src_3 = scaler.fit_transform(src_3)\n",
    "\n",
    "track_1 = np.reshape(src_1, [100000, 1])\n",
    "track_2 = np.reshape(src_2, [100000, 1])\n",
    "track_3 = np.reshape(src_3, [100000, 1])\n",
    "\n",
    "plt.figure(figsize=(15, 15))\n",
    "\n",
    "models = [track_1[0:1000], track_2[0:1000], track_3[0:1000]]\n",
    "names = ['Sine', 'Square', 'Sawtooth']\n",
    "colors = ['red', 'steelblue', 'orange']\n",
    "\n",
    "for index, (model, name) in enumerate(zip(models, names), 1):\n",
    "    plt.subplot(12, 1, index * 2)\n",
    "    plt.title(name)\n",
    "    for sig, color in zip(model.T, [colors[index - 1]]):\n",
    "        plt.plot(sig, color=color)\n",
    "\n",
    "plt.show()"
   ]
  },
  {
   "cell_type": "code",
   "execution_count": 3,
   "metadata": {
    "pycharm": {
     "is_executing": false,
     "name": "#%%\n"
    }
   },
   "outputs": [
    {
     "name": "stdout",
     "output_type": "stream",
     "text": [
      "smoothing...\n",
      "smoothing...\n",
      "smoothing...\n"
     ]
    }
   ],
   "source": [
    "def smooth_src(input_signal, sigma):\n",
    "    print('smoothing...')\n",
    "    for i in np.arange(0, input_signal.shape[2]):\n",
    "        input_signal[:, :, i] = gaussian_filter(input_signal[:, :, i], sigma)\n",
    "\n",
    "    return input_signal\n",
    "\n",
    "src_grid_1 = np.zeros([10, 10, src_1.shape[0]])  # init 3d grid\n",
    "src_grid_1[src_loc_1[0], src_loc_1[1], :] = src_1[:,0]  # place point source in grid\n",
    "src_grid_1 = smooth_src(src_grid_1, 3)  # smooth\n",
    "\n",
    "src_grid_2 = np.zeros([10, 10, src_2.shape[0]])\n",
    "src_grid_2[src_loc_2[0], src_loc_2[1], :] = src_2[:,0]\n",
    "src_grid_2 = smooth_src(src_grid_2, 3)\n",
    "\n",
    "src_grid_3 = np.zeros([10, 10, src_3.shape[0]])\n",
    "src_grid_3[src_loc_3[0], src_loc_3[1], :] = src_3[:,0]\n",
    "src_grid_3 = smooth_src(src_grid_3, 3)\n",
    "\n",
    "mixed = src_grid_1 + src_grid_2 + src_grid_3  # goal is to unmix mixed\n",
    "\"\"\"\n",
    "the matrix 'mixed' is the sum of all 3 sources, where each source is a 2d gaussian\n",
    "smoothed time series (sin, boxcar, sawtooth). the goal is to recover the original\n",
    "time series, as well as the spatial topography of the original sources  \n",
    "\"\"\"\n",
    "\n",
    "reshape_mixed = np.reshape(mixed, [100, mixed.shape[2]])\n",
    "ica = FastICA(n_components=3)  # we'll be generous and assume there's 3\n",
    "ica.fit(reshape_mixed.T)  # .T because 100000 instances, 100 attributes\n",
    "ica_comps = ica.transform(reshape_mixed.T)  # get the components\n",
    "ica_weights = np.reshape(ica.components_.T, [10, 10, 3])  # visualize these as images"
   ]
  },
  {
   "cell_type": "markdown",
   "metadata": {},
   "source": [
    "## Autoencoder training"
   ]
  },
  {
   "cell_type": "code",
   "execution_count": 4,
   "metadata": {
    "pycharm": {
     "is_executing": false,
     "name": "#%%\n"
    }
   },
   "outputs": [
    {
     "name": "stdout",
     "output_type": "stream",
     "text": [
      "Model: \"autoencoder\"\n",
      "_________________________________________________________________\n",
      "Layer (type)                 Output Shape              Param #   \n",
      "=================================================================\n",
      "dense_1 (Dense)              (None, 3)                 300       \n",
      "_________________________________________________________________\n",
      "dense_2 (Dense)              (None, 100)               300       \n",
      "=================================================================\n",
      "Total params: 600\n",
      "Trainable params: 600\n",
      "Non-trainable params: 0\n",
      "_________________________________________________________________\n"
     ]
    }
   ],
   "source": [
    "autoencoder = Sequential()\n",
    "autoencoder.name = 'autoencoder'\n",
    "autoencoder.add(Dense(3, activation='linear', input_shape=[100], kernel_initializer='random_uniform', use_bias=False, kernel_constraint='nonneg'))\n",
    "autoencoder.add(Dense(100, activation='linear', kernel_initializer='random_uniform', use_bias=False, kernel_constraint='nonneg'))\n",
    "\n",
    "autoencoder.summary()\n",
    "\n",
    "autoencoder.compile(loss='logcosh', optimizer='adam')\n",
    "\n",
    "autoencoder_input = reshape_mixed.T"
   ]
  },
  {
   "cell_type": "code",
   "execution_count": 5,
   "metadata": {
    "pycharm": {
     "is_executing": false,
     "name": "#%%\n"
    }
   },
   "outputs": [
    {
     "name": "stdout",
     "output_type": "stream",
     "text": [
      "Epoch 1/100\n",
      "100000/100000 [==============================] - 3s 27us/step - loss: 6.2160e-06\n",
      "Epoch 2/100\n",
      "100000/100000 [==============================] - 3s 25us/step - loss: 8.7834e-08\n",
      "Epoch 3/100\n",
      "100000/100000 [==============================] - 3s 25us/step - loss: 4.2757e-08\n",
      "Epoch 4/100\n",
      "100000/100000 [==============================] - ETA: 0s - loss: 2.9858e-0 - 3s 25us/step - loss: 2.9804e-08\n",
      "Epoch 5/100\n",
      "100000/100000 [==============================] - 3s 25us/step - loss: 2.3544e-08\n",
      "Epoch 6/100\n",
      "100000/100000 [==============================] - 3s 25us/step - loss: 2.0291e-08\n",
      "Epoch 7/100\n",
      "100000/100000 [==============================] - 3s 25us/step - loss: 1.8349e-08\n",
      "Epoch 8/100\n",
      "100000/100000 [==============================] - 3s 30us/step - loss: 1.7165e-08\n",
      "Epoch 9/100\n",
      "100000/100000 [==============================] - 3s 27us/step - loss: 1.6483e-08\n",
      "Epoch 10/100\n",
      "100000/100000 [==============================] - 3s 25us/step - loss: 1.5931e-08\n",
      "Epoch 11/100\n",
      "100000/100000 [==============================] - 3s 25us/step - loss: 1.5541e-08\n",
      "Epoch 12/100\n",
      "100000/100000 [==============================] - 3s 26us/step - loss: 1.5121e-08ETA: 0s - loss: 1\n",
      "Epoch 13/100\n",
      "100000/100000 [==============================] - 3s 25us/step - loss: 1.4790e-08\n",
      "Epoch 14/100\n",
      "100000/100000 [==============================] - 3s 26us/step - loss: 1.4372e-08\n",
      "Epoch 15/100\n",
      "100000/100000 [==============================] - 3s 26us/step - loss: 1.3995e-08\n",
      "Epoch 16/100\n",
      "100000/100000 [==============================] - 3s 26us/step - loss: 1.3641e-08\n",
      "Epoch 17/100\n",
      "100000/100000 [==============================] - 3s 26us/step - loss: 1.3339e-08\n",
      "Epoch 18/100\n",
      "100000/100000 [==============================] - 3s 26us/step - loss: 1.3144e-08\n",
      "Epoch 19/100\n",
      "100000/100000 [==============================] - 3s 26us/step - loss: 1.2915e-08\n",
      "Epoch 20/100\n",
      "100000/100000 [==============================] - 3s 26us/step - loss: 1.2731e-08\n",
      "Epoch 21/100\n",
      "100000/100000 [==============================] - 3s 26us/step - loss: 1.2594e-08\n",
      "Epoch 22/100\n",
      "100000/100000 [==============================] - 3s 26us/step - loss: 1.2466e-08\n",
      "Epoch 23/100\n",
      "100000/100000 [==============================] - 3s 26us/step - loss: 1.2380e-08\n",
      "Epoch 24/100\n",
      "100000/100000 [==============================] - 3s 26us/step - loss: 1.2239e-08\n",
      "Epoch 25/100\n",
      "100000/100000 [==============================] - 3s 26us/step - loss: 1.2122e-08\n",
      "Epoch 26/100\n",
      "100000/100000 [==============================] - 3s 28us/step - loss: 1.2065e-08\n",
      "Epoch 27/100\n",
      "100000/100000 [==============================] - 3s 29us/step - loss: 1.1908e-08\n",
      "Epoch 28/100\n",
      "100000/100000 [==============================] - 3s 27us/step - loss: 1.1837e-08\n",
      "Epoch 29/100\n",
      "100000/100000 [==============================] - 4s 36us/step - loss: 1.1731e-08\n",
      "Epoch 30/100\n",
      "100000/100000 [==============================] - 4s 37us/step - loss: 1.1610e-08\n",
      "Epoch 31/100\n",
      "100000/100000 [==============================] - 3s 34us/step - loss: 1.1516e-08\n",
      "Epoch 32/100\n",
      "100000/100000 [==============================] - 3s 28us/step - loss: 1.1476e-08\n",
      "Epoch 33/100\n",
      "100000/100000 [==============================] - 3s 26us/step - loss: 1.1392e-08\n",
      "Epoch 34/100\n",
      "100000/100000 [==============================] - 3s 26us/step - loss: 1.1338e-08\n",
      "Epoch 35/100\n",
      "100000/100000 [==============================] - 3s 32us/step - loss: 1.1288e-08\n",
      "Epoch 36/100\n",
      "100000/100000 [==============================] - 4s 36us/step - loss: 1.1181e-08\n",
      "Epoch 37/100\n",
      "100000/100000 [==============================] - 4s 36us/step - loss: 1.1094e-08\n",
      "Epoch 38/100\n",
      "100000/100000 [==============================] - 3s 28us/step - loss: 1.1052e-08\n",
      "Epoch 39/100\n",
      "100000/100000 [==============================] - 3s 28us/step - loss: 1.1002e-08\n",
      "Epoch 40/100\n",
      "100000/100000 [==============================] - 3s 28us/step - loss: 1.0984e-08\n",
      "Epoch 41/100\n",
      "100000/100000 [==============================] - 3s 28us/step - loss: 1.0945e-08\n",
      "Epoch 42/100\n",
      "100000/100000 [==============================] - 3s 28us/step - loss: 1.0965e-08\n",
      "Epoch 43/100\n",
      "100000/100000 [==============================] - 3s 29us/step - loss: 1.0889e-08\n",
      "Epoch 44/100\n",
      "100000/100000 [==============================] - 3s 27us/step - loss: 1.0862e-08: 0s \n",
      "Epoch 45/100\n",
      "100000/100000 [==============================] - 3s 28us/step - loss: 1.0831e-08\n",
      "Epoch 46/100\n",
      "100000/100000 [==============================] - 3s 27us/step - loss: 1.0812e-08\n",
      "Epoch 47/100\n",
      "100000/100000 [==============================] - 3s 28us/step - loss: 1.0800e-08\n",
      "Epoch 48/100\n",
      "100000/100000 [==============================] - 3s 27us/step - loss: 1.0774e-08\n",
      "Epoch 49/100\n",
      "100000/100000 [==============================] - 3s 28us/step - loss: 1.0772e-08\n",
      "Epoch 50/100\n",
      "100000/100000 [==============================] - 3s 28us/step - loss: 1.0733e-08\n",
      "Epoch 51/100\n",
      "100000/100000 [==============================] - 3s 28us/step - loss: 1.0730e-08\n",
      "Epoch 52/100\n",
      "100000/100000 [==============================] - 3s 28us/step - loss: 1.0696e-08:  - E\n",
      "Epoch 53/100\n",
      "100000/100000 [==============================] - 3s 28us/step - loss: 1.0682e-08\n",
      "Epoch 54/100\n",
      "100000/100000 [==============================] - 3s 27us/step - loss: 1.0600e-08\n",
      "Epoch 55/100\n",
      "100000/100000 [==============================] - 3s 29us/step - loss: 1.0583e-08\n",
      "Epoch 56/100\n",
      "100000/100000 [==============================] - 3s 28us/step - loss: 1.0571e-08\n",
      "Epoch 57/100\n",
      "100000/100000 [==============================] - 3s 29us/step - loss: 1.0578e-08\n",
      "Epoch 58/100\n",
      "100000/100000 [==============================] - 3s 28us/step - loss: 1.0560e-08\n",
      "Epoch 59/100\n",
      "100000/100000 [==============================] - 3s 27us/step - loss: 1.0499e-08\n",
      "Epoch 60/100\n",
      "100000/100000 [==============================] - 3s 28us/step - loss: 1.0493e-08: 0s - loss: 1.0496e-\n",
      "Epoch 61/100\n",
      "100000/100000 [==============================] - 3s 28us/step - loss: 1.0467e-08\n",
      "Epoch 62/100\n",
      "100000/100000 [==============================] - 3s 29us/step - loss: 1.0497e-08\n",
      "Epoch 63/100\n",
      "100000/100000 [==============================] - 5s 45us/step - loss: 1.0426e-08: 0s - \n",
      "Epoch 64/100\n",
      "100000/100000 [==============================] - 2s 25us/step - loss: 1.0457e-08\n",
      "Epoch 65/100\n",
      "100000/100000 [==============================] - 3s 26us/step - loss: 1.0416e-08\n",
      "Epoch 66/100\n",
      "100000/100000 [==============================] - 3s 27us/step - loss: 1.0438e-08\n",
      "Epoch 67/100\n",
      "100000/100000 [==============================] - 3s 25us/step - loss: 1.0418e-08\n",
      "Epoch 68/100\n",
      "100000/100000 [==============================] - ETA: 0s - loss: 1.0422e-0 - 3s 26us/step - loss: 1.0427e-08\n",
      "Epoch 69/100\n",
      "100000/100000 [==============================] - 3s 25us/step - loss: 1.0400e-08\n",
      "Epoch 70/100\n",
      "100000/100000 [==============================] - 3s 29us/step - loss: 1.0418e-08\n",
      "Epoch 71/100\n",
      "100000/100000 [==============================] - 4s 35us/step - loss: 1.0396e-08\n",
      "Epoch 72/100\n",
      "100000/100000 [==============================] - 4s 42us/step - loss: 1.0409e-08\n",
      "Epoch 73/100\n",
      "100000/100000 [==============================] - 4s 38us/step - loss: 1.0375e-08\n",
      "Epoch 74/100\n",
      "100000/100000 [==============================] - 3s 31us/step - loss: 1.0374e-08\n",
      "Epoch 75/100\n",
      "100000/100000 [==============================] - 3s 27us/step - loss: 1.0357e-08\n",
      "Epoch 76/100\n",
      "100000/100000 [==============================] - 3s 27us/step - loss: 1.0338e-08: 0s - \n",
      "Epoch 77/100\n",
      "100000/100000 [==============================] - 3s 27us/step - loss: 1.0309e-08\n",
      "Epoch 78/100\n",
      "100000/100000 [==============================] - 3s 27us/step - loss: 1.0327e-08\n",
      "Epoch 79/100\n",
      "100000/100000 [==============================] - 3s 28us/step - loss: 1.0354e-08\n",
      "Epoch 80/100\n",
      "100000/100000 [==============================] - 3s 28us/step - loss: 1.0292e-08\n",
      "Epoch 81/100\n",
      "100000/100000 [==============================] - 3s 27us/step - loss: 1.0320e-08\n",
      "Epoch 82/100\n",
      "100000/100000 [==============================] - 3s 27us/step - loss: 1.0311e-08\n",
      "Epoch 83/100\n",
      "100000/100000 [==============================] - 3s 26us/step - loss: 1.0349e-08\n",
      "Epoch 84/100\n",
      "100000/100000 [==============================] - 3s 26us/step - loss: 1.0270e-08\n",
      "Epoch 85/100\n",
      "100000/100000 [==============================] - 3s 27us/step - loss: 1.0311e-08\n",
      "Epoch 86/100\n"
     ]
    },
    {
     "name": "stdout",
     "output_type": "stream",
     "text": [
      "100000/100000 [==============================] - 3s 28us/step - loss: 1.0332e-08\n",
      "Epoch 87/100\n",
      "100000/100000 [==============================] - ETA: 0s - loss: 1.0272e-0 - 3s 28us/step - loss: 1.0274e-08\n",
      "Epoch 88/100\n",
      "100000/100000 [==============================] - 3s 26us/step - loss: 1.0277e-08\n",
      "Epoch 89/100\n",
      "100000/100000 [==============================] - 3s 27us/step - loss: 1.0320e-08\n",
      "Epoch 90/100\n",
      "100000/100000 [==============================] - 3s 26us/step - loss: 1.0299e-08\n",
      "Epoch 91/100\n",
      "100000/100000 [==============================] - 3s 26us/step - loss: 1.0294e-08\n",
      "Epoch 92/100\n",
      "100000/100000 [==============================] - 3s 26us/step - loss: 1.0268e-08\n",
      "Epoch 93/100\n",
      "100000/100000 [==============================] - 3s 27us/step - loss: 1.0280e-08\n",
      "Epoch 94/100\n",
      "100000/100000 [==============================] - 3s 26us/step - loss: 1.0251e-08\n",
      "Epoch 95/100\n",
      "100000/100000 [==============================] - 3s 27us/step - loss: 1.0261e-08\n",
      "Epoch 96/100\n",
      "100000/100000 [==============================] - 3s 27us/step - loss: 1.0251e-08\n",
      "Epoch 97/100\n",
      "100000/100000 [==============================] - 3s 27us/step - loss: 1.0239e-08: 0s -\n",
      "Epoch 98/100\n",
      "100000/100000 [==============================] - 3s 27us/step - loss: 1.0253e-08\n",
      "Epoch 99/100\n",
      "100000/100000 [==============================] - 3s 27us/step - loss: 1.0272e-08\n",
      "Epoch 100/100\n",
      "100000/100000 [==============================] - 3s 28us/step - loss: 1.0210e-08\n"
     ]
    }
   ],
   "source": [
    "dense_broad_history = autoencoder.fit(autoencoder_input,\n",
    "                                      autoencoder_input,\n",
    "                                      batch_size=40,\n",
    "                                      epochs=100,\n",
    "                                      verbose=1)"
   ]
  },
  {
   "cell_type": "code",
   "execution_count": 6,
   "metadata": {
    "pycharm": {
     "name": "#%%\n"
    }
   },
   "outputs": [],
   "source": [
    "reconstruction = autoencoder.predict(autoencoder_input)"
   ]
  },
  {
   "cell_type": "markdown",
   "metadata": {},
   "source": [
    "## Original and reconstruction comparison"
   ]
  },
  {
   "cell_type": "code",
   "execution_count": 7,
   "metadata": {
    "pycharm": {
     "is_executing": false,
     "name": "#%%\n"
    }
   },
   "outputs": [
    {
     "data": {
      "image/png": "[encoded data removed]",
      "text/plain": [
       "<Figure size 432x288 with 10 Axes>"
      ]
     },
     "metadata": {
      "needs_background": "light"
     },
     "output_type": "display_data"
    }
   ],
   "source": [
    "i = 1\n",
    "for ii in [0, 50, 210, 400, 740]:\n",
    "    ax = plt.subplot(2, 5, i)\n",
    "    if i == 1:\n",
    "        plt.title('Original grid')\n",
    "    plt.imshow(np.reshape(autoencoder_input[ii], [10, 10]))\n",
    "    plt.gray()\n",
    "    ax.get_xaxis().set_visible(False)\n",
    "    ax.get_yaxis().set_visible(False)\n",
    "    ax = plt.subplot(2, 5, i + 5)\n",
    "    if i == 1:\n",
    "        plt.title('Reconstruction')\n",
    "    plt.imshow(np.reshape(reconstruction[ii], [10, 10]))\n",
    "    plt.gray()\n",
    "    ax.get_xaxis().set_visible(False)\n",
    "    ax.get_yaxis().set_visible(False)\n",
    "    i += 1"
   ]
  },
  {
   "cell_type": "markdown",
   "metadata": {
    "pycharm": {
     "is_executing": false,
     "name": "#%% md\n"
    }
   },
   "source": [
    "## Recover independent sources from hidden layer"
   ]
  },
  {
   "cell_type": "code",
   "execution_count": 8,
   "metadata": {
    "pycharm": {
     "is_executing": false,
     "name": "#%%\n"
    }
   },
   "outputs": [
    {
     "name": "stdout",
     "output_type": "stream",
     "text": [
      "Model: \"hidden_layer\"\n",
      "_________________________________________________________________\n",
      "Layer (type)                 Output Shape              Param #   \n",
      "=================================================================\n",
      "dense_3 (Dense)              (None, 3)                 300       \n",
      "=================================================================\n",
      "Total params: 300\n",
      "Trainable params: 300\n",
      "Non-trainable params: 0\n",
      "_________________________________________________________________\n"
     ]
    }
   ],
   "source": [
    "hidden_layer = Sequential()\n",
    "hidden_layer.name = 'hidden_layer'\n",
    "hidden_layer.add(Dense(3, input_shape=[100], use_bias=False, kernel_constraint='nonneg'))\n",
    "hidden_layer.summary()\n",
    "\n",
    "hidden_layer.set_weights(autoencoder.get_weights())\n",
    "\n",
    "recovered_sources = hidden_layer.predict(reshape_mixed.T)\n",
    "\n",
    "source_1 = np.reshape(recovered_sources.T[0], [100000, 1])\n",
    "source_2 = np.reshape(recovered_sources.T[1], [100000, 1])\n",
    "source_3 = np.reshape(recovered_sources.T[2], [100000, 1])\n",
    "\n",
    "recovered_sources = np.concatenate([source_1, source_2, source_3], axis=1)"
   ]
  },
  {
   "cell_type": "markdown",
   "metadata": {},
   "source": [
    "## ICA and autoencoder results comparison"
   ]
  },
  {
   "cell_type": "code",
   "execution_count": 9,
   "metadata": {
    "pycharm": {
     "is_executing": false,
     "name": "#%%\n"
    }
   },
   "outputs": [
    {
     "data": {
      "image/png": "[encoded data removed]",
      "text/plain": [
       "<Figure size 1080x1080 with 5 Axes>"
      ]
     },
     "metadata": {
      "needs_background": "light"
     },
     "output_type": "display_data"
    }
   ],
   "source": [
    "plt.figure(figsize=(15, 15))\n",
    "\n",
    "models = [\n",
    "    track_1[0:1000],\n",
    "    track_2[0:1000],\n",
    "    track_3[0:1000],\n",
    "    ica_comps[0:1000],\n",
    "    recovered_sources[0:1000]\n",
    "]\n",
    "names = ['source_1', 'source_2', 'source_3', 'ICA',  'Autoencoder']\n",
    "colors = ['red', 'steelblue', 'orange']\n",
    "\n",
    "for index, (model, name) in enumerate(zip(models, names), 1):\n",
    "    plt.subplot(12, 1, index * 2)\n",
    "    plt.title(name)\n",
    "    for sig, color in zip(model.T, colors):\n",
    "        plt.plot(sig, color=color)\n",
    "\n",
    "plt.show()"
   ]
  },
  {
   "cell_type": "code",
   "execution_count": null,
   "metadata": {},
   "outputs": [],
   "source": []
  }
 ],
 "metadata": {
  "kernelspec": {
   "display_name": "Python 3",
   "language": "python",
   "name": "python3"
  },
  "language_info": {
   "codemirror_mode": {
    "name": "ipython",
    "version": 3
   },
   "file_extension": ".py",
   "mimetype": "text/x-python",
   "name": "python",
   "nbconvert_exporter": "python",
   "pygments_lexer": "ipython3",
   "version": "3.7.3"
  },
  "pycharm": {
   "stem_cell": {
    "cell_type": "raw",
    "metadata": {
     "collapsed": false
    },
    "source": []
   }
  }
 },
 "nbformat": 4,
 "nbformat_minor": 1
}
