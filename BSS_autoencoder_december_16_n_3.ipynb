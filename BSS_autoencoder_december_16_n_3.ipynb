{
 "cells": [
  {
   "cell_type": "markdown",
   "metadata": {},
   "source": [
    "# Blind source separation with an unsupervised autoencoder\n",
    "\n",
    "# Daniel Correa Tucunduva \n"
   ]
  },
  {
   "cell_type": "markdown",
   "metadata": {},
   "source": [
    "## Hyperparameters"
   ]
  },
  {
   "cell_type": "code",
   "execution_count": 1,
   "metadata": {
    "pycharm": {
     "name": "#%%\n"
    }
   },
   "outputs": [],
   "source": [
    "hidden_layer_n = 3\n",
    "epochs = 100"
   ]
  },
  {
   "cell_type": "markdown",
   "metadata": {},
   "source": [
    "## Setup"
   ]
  },
  {
   "cell_type": "code",
   "execution_count": 2,
   "metadata": {
    "pycharm": {
     "is_executing": false,
     "name": "#%%\n"
    }
   },
   "outputs": [
    {
     "name": "stderr",
     "output_type": "stream",
     "text": [
      "Using TensorFlow backend.\n"
     ]
    },
    {
     "name": "stdout",
     "output_type": "stream",
     "text": [
      "Automatically created module for IPython interactive environment\n"
     ]
    }
   ],
   "source": [
    "%matplotlib inline\n",
    "\n",
    "from mne.io import read_raw_eeglab\n",
    "import numpy as np\n",
    "from scipy.ndimage import gaussian_filter\n",
    "import keras\n",
    "from keras.models import Sequential\n",
    "from keras.layers import Dense\n",
    "from keras.callbacks import LearningRateScheduler\n",
    "from sklearn.decomposition import FastICA\n",
    "from sklearn.preprocessing import MinMaxScaler\n",
    "import matplotlib.pyplot as plt\n",
    "\n",
    "print(__doc__)"
   ]
  },
  {
   "cell_type": "markdown",
   "metadata": {},
   "source": [
    "## Load real EEG data"
   ]
  },
  {
   "cell_type": "code",
   "execution_count": 3,
   "metadata": {
    "pycharm": {
     "is_executing": false,
     "name": "#%%\n"
    }
   },
   "outputs": [
    {
     "name": "stdout",
     "output_type": "stream",
     "text": [
      "Reading .\\outside_scanner.fdt\n",
      "Reading 0 ... 124404  =      0.000 ...   497.616 secs...\n"
     ]
    },
    {
     "name": "stderr",
     "output_type": "stream",
     "text": [
      "<ipython-input-3-5a9b7a979c0e>:1: RuntimeWarning: The data contains 'boundary' events, indicating data discontinuities. Be cautious of filtering and epoching around these events.\n",
      "  raw_eeg_lab = read_raw_eeglab('./outside_scanner.set')\n"
     ]
    },
    {
     "name": "stdout",
     "output_type": "stream",
     "text": [
      "Converting \"time\" to \"<class 'numpy.int64'>\"...\n",
      "(124405, 64)\n"
     ]
    }
   ],
   "source": [
    "raw_eeg_lab = read_raw_eeglab('./outside_scanner.set')\n",
    "raw_eeg_lab.load_data()\n",
    "np_eeg_data = raw_eeg_lab.to_data_frame()\n",
    "print(np_eeg_data.shape)\n",
    "\n",
    "n = np_eeg_data.shape[0]"
   ]
  },
  {
   "cell_type": "markdown",
   "metadata": {},
   "source": [
    "## ICA"
   ]
  },
  {
   "cell_type": "code",
   "execution_count": 4,
   "metadata": {
    "pycharm": {
     "is_executing": false,
     "name": "#%%\n"
    }
   },
   "outputs": [],
   "source": [
    "# ica = FastICA(n_components=3)  # we'll be generous and assume there's 3\n",
    "# ica.fit(reshape_mixed.T)  # .T because 100000 instances, 100 attributes\n",
    "# ica_comps = ica.transform(reshape_mixed.T)  # get the components\n",
    "# ica_weights = np.reshape(ica.components_.T, [10, 10, 3])  # visualize these as images"
   ]
  },
  {
   "cell_type": "markdown",
   "metadata": {},
   "source": [
    "## Autoencoder training"
   ]
  },
  {
   "cell_type": "code",
   "execution_count": 5,
   "metadata": {
    "pycharm": {
     "is_executing": false,
     "name": "#%%\n"
    },
    "scrolled": true
   },
   "outputs": [
    {
     "name": "stdout",
     "output_type": "stream",
     "text": [
      "Model: \"autoencoder\"\n",
      "_________________________________________________________________\n",
      "Layer (type)                 Output Shape              Param #   \n",
      "=================================================================\n",
      "dense_1 (Dense)              (None, 3)                 192       \n",
      "_________________________________________________________________\n",
      "dense_2 (Dense)              (None, 64)                192       \n",
      "=================================================================\n",
      "Total params: 384\n",
      "Trainable params: 384\n",
      "Non-trainable params: 0\n",
      "_________________________________________________________________\n"
     ]
    }
   ],
   "source": [
    "autoencoder = Sequential()\n",
    "autoencoder.name = 'autoencoder'\n",
    "autoencoder.add(Dense(hidden_layer_n, activation='linear', input_shape=[64], kernel_initializer='uniform', use_bias=False, kernel_constraint='nonneg'))\n",
    "autoencoder.add(Dense(64, activation='linear', kernel_initializer='uniform', use_bias=False, kernel_constraint='nonneg'))\n",
    "\n",
    "autoencoder.summary()\n",
    "\n",
    "optimizer = keras.optimizers.SGD(learning_rate=1e-1, momentum=0.0, nesterov=False)\n",
    "\n",
    "autoencoder.compile(loss='logcosh', optimizer=optimizer)\n",
    "\n",
    "autoencoder_input = np_eeg_data"
   ]
  },
  {
   "cell_type": "code",
   "execution_count": 6,
   "metadata": {
    "pycharm": {
     "is_executing": false,
     "name": "#%%\n"
    },
    "scrolled": false
   },
   "outputs": [
    {
     "name": "stdout",
     "output_type": "stream",
     "text": [
      "Epoch 1/100\n",
      "124405/124405 [==============================] - 3s 24us/step - loss: 16.4916\n",
      "Epoch 2/100\n",
      "124405/124405 [==============================] - 3s 22us/step - loss: 13.3171\n",
      "Epoch 3/100\n",
      "124405/124405 [==============================] - 3s 22us/step - loss: 13.2649\n",
      "Epoch 4/100\n",
      "124405/124405 [==============================] - 3s 22us/step - loss: 13.1243\n",
      "Epoch 5/100\n",
      "124405/124405 [==============================] - 3s 23us/step - loss: 12.7998\n",
      "Epoch 6/100\n",
      "124405/124405 [==============================] - 3s 22us/step - loss: 12.4082\n",
      "Epoch 7/100\n",
      "124405/124405 [==============================] - 3s 23us/step - loss: 12.1604\n",
      "Epoch 8/100\n",
      "124405/124405 [==============================] - 3s 23us/step - loss: 12.0455\n",
      "Epoch 9/100\n",
      "124405/124405 [==============================] - 3s 23us/step - loss: 11.9565\n",
      "Epoch 10/100\n",
      "124405/124405 [==============================] - 3s 23us/step - loss: 11.8705\n",
      "Epoch 11/100\n",
      "124405/124405 [==============================] - 3s 24us/step - loss: 11.7887\n",
      "Epoch 12/100\n",
      "124405/124405 [==============================] - 3s 24us/step - loss: 11.7215\n",
      "Epoch 13/100\n",
      "124405/124405 [==============================] - 3s 24us/step - loss: 11.6713\n",
      "Epoch 14/100\n",
      "124405/124405 [==============================] - 3s 21us/step - loss: 11.6370\n",
      "Epoch 15/100\n",
      "124405/124405 [==============================] - 3s 21us/step - loss: 11.6092\n",
      "Epoch 16/100\n",
      "124405/124405 [==============================] - 3s 22us/step - loss: 11.5860\n",
      "Epoch 17/100\n",
      "124405/124405 [==============================] - 3s 22us/step - loss: 11.5679\n",
      "Epoch 18/100\n",
      "124405/124405 [==============================] - 3s 22us/step - loss: 11.5539\n",
      "Epoch 19/100\n",
      "124405/124405 [==============================] - 3s 25us/step - loss: 11.5423\n",
      "Epoch 20/100\n",
      "124405/124405 [==============================] - 3s 25us/step - loss: 11.5322\n",
      "Epoch 21/100\n",
      "124405/124405 [==============================] - 3s 25us/step - loss: 11.5263\n",
      "Epoch 22/100\n",
      "124405/124405 [==============================] - 3s 21us/step - loss: 11.5253\n",
      "Epoch 23/100\n",
      "124405/124405 [==============================] - 3s 21us/step - loss: 11.5245\n",
      "Epoch 24/100\n",
      "124405/124405 [==============================] - 3s 23us/step - loss: 11.5237\n",
      "Epoch 25/100\n",
      "124405/124405 [==============================] - 3s 21us/step - loss: 11.5229\n",
      "Epoch 26/100\n",
      "124405/124405 [==============================] - 3s 25us/step - loss: 11.5221\n",
      "Epoch 27/100\n",
      "124405/124405 [==============================] - 3s 24us/step - loss: 11.5214\n",
      "Epoch 28/100\n",
      "124405/124405 [==============================] - 3s 25us/step - loss: 11.5206\n",
      "Epoch 29/100\n",
      "124405/124405 [==============================] - 4s 30us/step - loss: 11.5199\n",
      "Epoch 30/100\n",
      "124405/124405 [==============================] - 3s 26us/step - loss: 11.5192\n",
      "Epoch 31/100\n",
      "124405/124405 [==============================] - 3s 25us/step - loss: 11.5186\n",
      "Epoch 32/100\n",
      "124405/124405 [==============================] - 3s 26us/step - loss: 11.5179\n",
      "Epoch 33/100\n",
      "124405/124405 [==============================] - 3s 24us/step - loss: 11.5172\n",
      "Epoch 34/100\n",
      "124405/124405 [==============================] - 3s 22us/step - loss: 11.5166\n",
      "Epoch 35/100\n",
      "124405/124405 [==============================] - 3s 22us/step - loss: 11.5160\n",
      "Epoch 36/100\n",
      "124405/124405 [==============================] - 3s 22us/step - loss: 11.5154\n",
      "Epoch 37/100\n",
      "124405/124405 [==============================] - 3s 22us/step - loss: 11.5148\n",
      "Epoch 38/100\n",
      "124405/124405 [==============================] - 3s 22us/step - loss: 11.5142\n",
      "Epoch 39/100\n",
      "124405/124405 [==============================] - 3s 22us/step - loss: 11.5136\n",
      "Epoch 40/100\n",
      "124405/124405 [==============================] - 3s 23us/step - loss: 11.5130\n",
      "Epoch 41/100\n",
      "124405/124405 [==============================] - 3s 22us/step - loss: 11.5126\n",
      "Epoch 42/100\n",
      "124405/124405 [==============================] - 3s 22us/step - loss: 11.5125\n",
      "Epoch 43/100\n",
      "124405/124405 [==============================] - 3s 26us/step - loss: 11.5124\n",
      "Epoch 44/100\n",
      "124405/124405 [==============================] - 3s 24us/step - loss: 11.5124\n",
      "Epoch 45/100\n",
      "124405/124405 [==============================] - 3s 22us/step - loss: 11.5123\n",
      "Epoch 46/100\n",
      "124405/124405 [==============================] - 3s 22us/step - loss: 11.5123\n",
      "Epoch 47/100\n",
      "124405/124405 [==============================] - 3s 22us/step - loss: 11.5122\n",
      "Epoch 48/100\n",
      "124405/124405 [==============================] - 3s 22us/step - loss: 11.5122\n",
      "Epoch 49/100\n",
      "124405/124405 [==============================] - 3s 23us/step - loss: 11.5121\n",
      "Epoch 50/100\n",
      "124405/124405 [==============================] - 3s 25us/step - loss: 11.5120\n",
      "Epoch 51/100\n",
      "124405/124405 [==============================] - 3s 28us/step - loss: 11.5120\n",
      "Epoch 52/100\n",
      "124405/124405 [==============================] - 3s 21us/step - loss: 11.5119\n",
      "Epoch 53/100\n",
      "124405/124405 [==============================] - 3s 20us/step - loss: 11.5119\n",
      "Epoch 54/100\n",
      "124405/124405 [==============================] - 3s 25us/step - loss: 11.5118\n",
      "Epoch 55/100\n",
      "124405/124405 [==============================] - 3s 22us/step - loss: 11.5118\n",
      "Epoch 56/100\n",
      "124405/124405 [==============================] - 3s 22us/step - loss: 11.5117\n",
      "Epoch 57/100\n",
      "124405/124405 [==============================] - 3s 21us/step - loss: 11.5116\n",
      "Epoch 58/100\n",
      "124405/124405 [==============================] - 3s 21us/step - loss: 11.5116\n",
      "Epoch 59/100\n",
      "124405/124405 [==============================] - 3s 22us/step - loss: 11.5115\n",
      "Epoch 60/100\n",
      "124405/124405 [==============================] - 3s 21us/step - loss: 11.5115\n",
      "Epoch 61/100\n",
      "124405/124405 [==============================] - 4s 36us/step - loss: 11.5114\n",
      "Epoch 62/100\n",
      "124405/124405 [==============================] - 4s 35us/step - loss: 11.5114\n",
      "Epoch 63/100\n",
      "124405/124405 [==============================] - 4s 34us/step - loss: 11.5114\n",
      "Epoch 64/100\n",
      "124405/124405 [==============================] - 4s 33us/step - loss: 11.5114\n",
      "Epoch 65/100\n",
      "124405/124405 [==============================] - 4s 35us/step - loss: 11.5114\n",
      "Epoch 66/100\n",
      "124405/124405 [==============================] - 4s 32us/step - loss: 11.5114\n",
      "Epoch 67/100\n",
      "124405/124405 [==============================] - 4s 33us/step - loss: 11.5114\n",
      "Epoch 68/100\n",
      "124405/124405 [==============================] - 4s 32us/step - loss: 11.5114\n",
      "Epoch 69/100\n",
      "124405/124405 [==============================] - 4s 33us/step - loss: 11.5114\n",
      "Epoch 70/100\n",
      "124405/124405 [==============================] - 4s 32us/step - loss: 11.5114\n",
      "Epoch 71/100\n",
      "124405/124405 [==============================] - 4s 35us/step - loss: 11.5114\n",
      "Epoch 72/100\n",
      "124405/124405 [==============================] - 4s 35us/step - loss: 11.5114\n",
      "Epoch 73/100\n",
      "124405/124405 [==============================] - 4s 33us/step - loss: 11.5114\n",
      "Epoch 74/100\n",
      "124405/124405 [==============================] - 4s 34us/step - loss: 11.5114\n",
      "Epoch 75/100\n",
      "124405/124405 [==============================] - 4s 35us/step - loss: 11.5113\n",
      "Epoch 76/100\n",
      "124405/124405 [==============================] - 4s 34us/step - loss: 11.5113\n",
      "Epoch 77/100\n",
      "124405/124405 [==============================] - 4s 30us/step - loss: 11.5113\n",
      "Epoch 78/100\n",
      "124405/124405 [==============================] - 4s 33us/step - loss: 11.5113 0s\n",
      "Epoch 79/100\n",
      "124405/124405 [==============================] - 4s 33us/step - loss: 11.5113\n",
      "Epoch 80/100\n",
      "124405/124405 [==============================] - 3s 26us/step - loss: 11.5113\n",
      "Epoch 81/100\n",
      "124405/124405 [==============================] - 4s 31us/step - loss: 11.5113\n",
      "Epoch 82/100\n",
      "124405/124405 [==============================] - 4s 36us/step - loss: 11.5113\n",
      "Epoch 83/100\n",
      "124405/124405 [==============================] - 4s 32us/step - loss: 11.5113\n",
      "Epoch 84/100\n",
      "124405/124405 [==============================] - 4s 33us/step - loss: 11.5113\n",
      "Epoch 85/100\n",
      "124405/124405 [==============================] - 4s 33us/step - loss: 11.5113\n",
      "Epoch 86/100\n",
      "124405/124405 [==============================] - 4s 32us/step - loss: 11.5113\n",
      "Epoch 87/100\n",
      "124405/124405 [==============================] - 4s 29us/step - loss: 11.5113\n",
      "Epoch 88/100\n",
      "124405/124405 [==============================] - 3s 27us/step - loss: 11.5113\n",
      "Epoch 89/100\n",
      "124405/124405 [==============================] - 3s 25us/step - loss: 11.5113\n",
      "Epoch 90/100\n",
      "124405/124405 [==============================] - 3s 28us/step - loss: 11.5113\n",
      "Epoch 91/100\n"
     ]
    },
    {
     "name": "stdout",
     "output_type": "stream",
     "text": [
      "124405/124405 [==============================] - 3s 24us/step - loss: 11.5113\n",
      "Epoch 92/100\n",
      "124405/124405 [==============================] - 4s 28us/step - loss: 11.5113\n",
      "Epoch 93/100\n",
      "124405/124405 [==============================] - 4s 30us/step - loss: 11.5113\n",
      "Epoch 94/100\n",
      "124405/124405 [==============================] - 3s 22us/step - loss: 11.5113\n",
      "Epoch 95/100\n",
      "124405/124405 [==============================] - 3s 20us/step - loss: 11.5113\n",
      "Epoch 96/100\n",
      "124405/124405 [==============================] - 3s 20us/step - loss: 11.5113\n",
      "Epoch 97/100\n",
      "124405/124405 [==============================] - 4s 32us/step - loss: 11.5113\n",
      "Epoch 98/100\n",
      "124405/124405 [==============================] - 3s 21us/step - loss: 11.5113\n",
      "Epoch 99/100\n",
      "124405/124405 [==============================] - 3s 22us/step - loss: 11.5113\n",
      "Epoch 100/100\n",
      "124405/124405 [==============================] - 3s 28us/step - loss: 11.5113\n"
     ]
    }
   ],
   "source": [
    "        \n",
    "def learning_rate_schedule(epoch):\n",
    "    e = epoch + 1\n",
    "    if e > 80:\n",
    "        return 1e-8\n",
    "    if e > 60:\n",
    "        return 1e-7\n",
    "    if e > 40:\n",
    "        return 1e-6\n",
    "    if e > 20:\n",
    "        return 1e-5\n",
    "    return 1e-4\n",
    "\n",
    "    \n",
    "autoencoder_history = autoencoder.fit(autoencoder_input,\n",
    "                                      autoencoder_input,\n",
    "                                      batch_size=40,\n",
    "                                      epochs=epochs,\n",
    "                                      verbose=1,\n",
    "                                      callbacks=[\n",
    "                                      LearningRateScheduler(learning_rate_schedule)\n",
    "                                      ])"
   ]
  },
  {
   "cell_type": "code",
   "execution_count": 7,
   "metadata": {
    "pycharm": {
     "is_executing": false,
     "name": "#%%\n"
    }
   },
   "outputs": [],
   "source": [
    "reconstruction = autoencoder.predict(autoencoder_input)"
   ]
  },
  {
   "cell_type": "markdown",
   "metadata": {},
   "source": [
    "## Original and reconstruction comparison"
   ]
  },
  {
   "cell_type": "markdown",
   "metadata": {
    "pycharm": {
     "is_executing": false,
     "name": "#%% md\n"
    }
   },
   "source": [
    "## Recover independent sources from hidden layer"
   ]
  },
  {
   "cell_type": "code",
   "execution_count": 8,
   "metadata": {
    "pycharm": {
     "is_executing": false,
     "name": "#%%\n"
    }
   },
   "outputs": [
    {
     "name": "stdout",
     "output_type": "stream",
     "text": [
      "Model: \"hidden_layer\"\n",
      "_________________________________________________________________\n",
      "Layer (type)                 Output Shape              Param #   \n",
      "=================================================================\n",
      "dense_3 (Dense)              (None, 3)                 192       \n",
      "=================================================================\n",
      "Total params: 192\n",
      "Trainable params: 192\n",
      "Non-trainable params: 0\n",
      "_________________________________________________________________\n"
     ]
    }
   ],
   "source": [
    "hidden_layer = Sequential()\n",
    "hidden_layer.name = 'hidden_layer'\n",
    "hidden_layer.add(Dense(hidden_layer_n, input_shape=[64], use_bias=False, kernel_constraint='nonneg'))\n",
    "hidden_layer.summary()\n",
    "\n",
    "hidden_layer.set_weights(autoencoder.get_weights())\n",
    "\n",
    "recovered_sources = hidden_layer.predict(autoencoder_input)\n",
    "\n",
    "names = []\n",
    "sources = []\n",
    "for i in range(hidden_layer_n):\n",
    "    names.append('source_' + str(i))\n",
    "    sources.append(np.reshape(recovered_sources.T[i], [n, 1]))"
   ]
  },
  {
   "cell_type": "markdown",
   "metadata": {},
   "source": [
    "## ICA and autoencoder results comparison"
   ]
  },
  {
   "cell_type": "code",
   "execution_count": 9,
   "metadata": {
    "pycharm": {
     "is_executing": false,
     "name": "#%%\n"
    },
    "scrolled": false
   },
   "outputs": [
    {
     "data": {
      "image/png": "[encoded data removed]",
      "text/plain": [
       "<Figure size 1080x1080 with 3 Axes>"
      ]
     },
     "metadata": {
      "needs_background": "light"
     },
     "output_type": "display_data"
    }
   ],
   "source": [
    "plt.figure(figsize=(15, 15))\n",
    "\n",
    "models = sources\n",
    "colors = ['red', 'steelblue', 'orange']\n",
    "\n",
    "for index, (model, name) in enumerate(zip(models, names), 1):\n",
    "    plt.subplot(hidden_layer_n * 2 + 2, 1, index * 2)\n",
    "    plt.title(name)\n",
    "    for sig, color in zip(model.T, colors):\n",
    "        plt.plot(sig[0:2000], color=color)\n",
    "plt.show()"
   ]
  },
  {
   "cell_type": "code",
   "execution_count": null,
   "metadata": {
    "pycharm": {
     "is_executing": false
    }
   },
   "outputs": [],
   "source": []
  }
 ],
 "metadata": {
  "kernelspec": {
   "display_name": "Python 3",
   "language": "python",
   "name": "python3"
  },
  "language_info": {
   "codemirror_mode": {
    "name": "ipython",
    "version": 3
   },
   "file_extension": ".py",
   "mimetype": "text/x-python",
   "name": "python",
   "nbconvert_exporter": "python",
   "pygments_lexer": "ipython3",
   "version": "3.7.5"
  },
  "pycharm": {
   "stem_cell": {
    "cell_type": "raw",
    "metadata": {
     "collapsed": false
    },
    "source": []
   }
  }
 },
 "nbformat": 4,
 "nbformat_minor": 1
}
